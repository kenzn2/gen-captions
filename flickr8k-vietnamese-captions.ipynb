{
 "cells": [
  {
   "cell_type": "code",
   "execution_count": 1,
   "id": "f631621b",
   "metadata": {
    "_cell_guid": "b1076dfc-b9ad-4769-8c92-a6c4dae69d19",
    "_uuid": "8f2839f25d086af736a60e9eeb907d3b93b6e0e5",
    "execution": {
     "iopub.execute_input": "2024-04-12T02:41:23.049769Z",
     "iopub.status.busy": "2024-04-12T02:41:23.049422Z",
     "iopub.status.idle": "2024-04-12T02:43:22.956602Z",
     "shell.execute_reply": "2024-04-12T02:43:22.955342Z"
    },
    "papermill": {
     "duration": 119.935212,
     "end_time": "2024-04-12T02:43:22.970632",
     "exception": false,
     "start_time": "2024-04-12T02:41:23.035420",
     "status": "completed"
    },
    "tags": []
   },
   "outputs": [
    {
     "name": "stdout",
     "output_type": "stream",
     "text": [
      "CPU times: user 243 ms, sys: 94.1 ms, total: 337 ms\n",
      "Wall time: 1min 59s\n"
     ]
    }
   ],
   "source": [
    "%%time\n",
    "%%capture\n",
    "!pip install tensorflow \n",
    "!pip install keras \n",
    "!pip install pillow \n",
    "!pip install numpy \n",
    "!pip install tqdm \n",
    "!pip install underthesea \n",
    "!pip install gensim \n",
    "!pip install fasttext \n",
    "!pip install nltk\n"
   ]
  },
  {
   "cell_type": "markdown",
   "id": "426eeb38",
   "metadata": {
    "papermill": {
     "duration": 0.01202,
     "end_time": "2024-04-12T02:43:22.995455",
     "exception": false,
     "start_time": "2024-04-12T02:43:22.983435",
     "status": "completed"
    },
    "tags": []
   },
   "source": [
    "# 1. Import Thư viện\n"
   ]
  },
  {
   "cell_type": "code",
   "execution_count": 2,
   "id": "d2fcb672",
   "metadata": {
    "execution": {
     "iopub.execute_input": "2024-04-12T02:43:23.023132Z",
     "iopub.status.busy": "2024-04-12T02:43:23.022266Z",
     "iopub.status.idle": "2024-04-12T02:43:28.984066Z",
     "shell.execute_reply": "2024-04-12T02:43:28.983210Z"
    },
    "papermill": {
     "duration": 5.977192,
     "end_time": "2024-04-12T02:43:28.986529",
     "exception": false,
     "start_time": "2024-04-12T02:43:23.009337",
     "status": "completed"
    },
    "tags": []
   },
   "outputs": [],
   "source": [
    "%%capture\n",
    "%%time\n",
    "import os\n",
    "import sys\n",
    "import string\n",
    "import fasttext\n",
    "import numpy as np\n",
    "\n",
    "import warnings\n",
    "warnings.filterwarnings('ignore')\n",
    "\n",
    "from pickle import dump, load\n",
    "from underthesea import word_tokenize\n",
    "from gensim.utils import simple_preprocess\n",
    "\n",
    "from keras.preprocessing.text import Tokenizer\n",
    "from keras.preprocessing.image import load_img, img_to_array\n",
    "from keras.preprocessing.sequence import pad_sequences\n",
    "\n",
    "# from keras.applications.xception import Xception, preprocess_input\n",
    "from keras.applications.inception_v3 import InceptionV3, preprocess_input\n",
    "from keras.layers import Input, Dense, LSTM, Embedding, Dropout, Bidirectional, add\n",
    "from keras.initializers import Constant\n",
    "from keras.models import Model, load_model\n",
    "from keras.utils.vis_utils import plot_model\n",
    "\n",
    "from tensorflow.keras.layers import Bidirectional\n",
    "from tensorflow.keras.optimizers import Adam\n",
    "from tensorflow.keras.losses import CategoricalCrossentropy\n",
    "from tensorflow.keras.utils import to_categorical\n",
    "\n",
    "from tqdm.notebook import tqdm\n",
    "from nltk.translate.bleu_score import corpus_bleu\n"
   ]
  },
  {
   "cell_type": "markdown",
   "id": "557f6ef8",
   "metadata": {
    "papermill": {
     "duration": 0.012392,
     "end_time": "2024-04-12T02:43:29.010552",
     "exception": false,
     "start_time": "2024-04-12T02:43:28.998160",
     "status": "completed"
    },
    "tags": []
   },
   "source": [
    "# 2. Xử lý dữ liệu"
   ]
  },
  {
   "cell_type": "code",
   "execution_count": 3,
   "id": "1be4dfcf",
   "metadata": {
    "execution": {
     "iopub.execute_input": "2024-04-12T02:43:29.034569Z",
     "iopub.status.busy": "2024-04-12T02:43:29.033690Z",
     "iopub.status.idle": "2024-04-12T02:43:29.038736Z",
     "shell.execute_reply": "2024-04-12T02:43:29.037833Z"
    },
    "papermill": {
     "duration": 0.019206,
     "end_time": "2024-04-12T02:43:29.040856",
     "exception": false,
     "start_time": "2024-04-12T02:43:29.021650",
     "status": "completed"
    },
    "tags": []
   },
   "outputs": [],
   "source": [
    "dataset_text = '../input/flickr8k-vi-caps'\n",
    "dataset_images = '../input/flickr8k/Images'\n",
    "sample_image = '1000268201_693b08cb0e.jpg'\n",
    "\n",
    "text_file = dataset_text + '/' + 'captions_vi.txt'"
   ]
  },
  {
   "cell_type": "code",
   "execution_count": 4,
   "id": "38ed3e2d",
   "metadata": {
    "execution": {
     "iopub.execute_input": "2024-04-12T02:43:29.064009Z",
     "iopub.status.busy": "2024-04-12T02:43:29.063717Z",
     "iopub.status.idle": "2024-04-12T02:43:29.195003Z",
     "shell.execute_reply": "2024-04-12T02:43:29.194034Z"
    },
    "papermill": {
     "duration": 0.145418,
     "end_time": "2024-04-12T02:43:29.197273",
     "exception": false,
     "start_time": "2024-04-12T02:43:29.051855",
     "status": "completed"
    },
    "tags": []
   },
   "outputs": [
    {
     "name": "stdout",
     "output_type": "stream",
     "text": [
      "Length of descriptions: 8000\n",
      "Description before clean text\n"
     ]
    },
    {
     "data": {
      "text/plain": [
       "['Một đứa trẻ mặc váy hồng đang trèo lên một bộ cầu thang theo lối vào.',\n",
       " 'Một cô gái đi vào một tòa nhà bằng gỗ.',\n",
       " 'Một cô bé trèo vào nhà chơi bằng gỗ.',\n",
       " 'Một cô bé leo lên cầu thang đến nhà chơi của mình.',\n",
       " 'Một cô bé mặc váy hồng đi vào cabin gỗ.']"
      ]
     },
     "execution_count": 4,
     "metadata": {},
     "output_type": "execute_result"
    }
   ],
   "source": [
    "#tạo từ điển các chú captions của ảnh\n",
    "def load_doc(filename):\n",
    "    file = open(filename, 'r', encoding='utf-8')\n",
    "    text = file.read()\n",
    "    file.close()\n",
    "    \n",
    "    return text\n",
    "\n",
    "def all_img_captions(filename):\n",
    "    file = load_doc(filename)\n",
    "    captions = file.split('\\n')\n",
    "    descriptions = dict()\n",
    "    for caption in captions[:-1]:\n",
    "        img, cap = caption.split('\\t')\n",
    "        if img not in descriptions:\n",
    "            descriptions[img] = [cap]\n",
    "        else:\n",
    "            descriptions[img].append(cap)\n",
    "    return descriptions\n",
    "\n",
    "\n",
    "descriptions = all_img_captions(text_file)\n",
    "print('Length of descriptions:', len(descriptions))\n",
    "print('Description before clean text')\n",
    "descriptions[sample_image]"
   ]
  },
  {
   "cell_type": "code",
   "execution_count": 5,
   "id": "1df7aacc",
   "metadata": {
    "execution": {
     "iopub.execute_input": "2024-04-12T02:43:29.221757Z",
     "iopub.status.busy": "2024-04-12T02:43:29.221096Z",
     "iopub.status.idle": "2024-04-12T02:44:04.335416Z",
     "shell.execute_reply": "2024-04-12T02:44:04.334489Z"
    },
    "papermill": {
     "duration": 35.140641,
     "end_time": "2024-04-12T02:44:04.349364",
     "exception": false,
     "start_time": "2024-04-12T02:43:29.208723",
     "status": "completed"
    },
    "tags": []
   },
   "outputs": [
    {
     "name": "stdout",
     "output_type": "stream",
     "text": [
      "Descriptions after clean text\n"
     ]
    },
    {
     "data": {
      "text/plain": [
       "['một đứa trẻ mặc váy hồng đang trèo lên một bộ cầu_thang theo lối vào',\n",
       " 'một cô gái đi vào một tòa nhà bằng gỗ',\n",
       " 'một cô bé trèo vào nhà chơi bằng gỗ',\n",
       " 'một cô bé leo lên cầu_thang đến nhà chơi của mình',\n",
       " 'một cô bé mặc váy hồng đi vào cabin gỗ']"
      ]
     },
     "execution_count": 5,
     "metadata": {},
     "output_type": "execute_result"
    }
   ],
   "source": [
    "#làm sạch các text\n",
    "def cleaning_text(descriptions):\n",
    "    table = str.maketrans('', '', string.punctuation)\n",
    "    for img, captions in descriptions.items():\n",
    "        for idx, cap in enumerate(captions):\n",
    "            desc = cap.replace(' - ', ' ').translate(table)\n",
    "            desc = ' '.join(simple_preprocess(desc))\n",
    "            desc = word_tokenize(desc, format='text')\n",
    "            \n",
    "            descriptions[img][idx] = desc\n",
    "    return descriptions\n",
    "\n",
    "clean_descriptions = cleaning_text(descriptions)\n",
    "print('Descriptions after clean text')\n",
    "clean_descriptions[sample_image]"
   ]
  },
  {
   "cell_type": "code",
   "execution_count": 6,
   "id": "1480b371",
   "metadata": {
    "execution": {
     "iopub.execute_input": "2024-04-12T02:44:04.374596Z",
     "iopub.status.busy": "2024-04-12T02:44:04.373816Z",
     "iopub.status.idle": "2024-04-12T02:44:04.467605Z",
     "shell.execute_reply": "2024-04-12T02:44:04.466657Z"
    },
    "papermill": {
     "duration": 0.108911,
     "end_time": "2024-04-12T02:44:04.469767",
     "exception": false,
     "start_time": "2024-04-12T02:44:04.360856",
     "status": "completed"
    },
    "tags": []
   },
   "outputs": [
    {
     "name": "stdout",
     "output_type": "stream",
     "text": [
      "Length of vocabuary: 6851\n"
     ]
    }
   ],
   "source": [
    "def text_vocabulary(descriptions):\n",
    "    vocab = set()\n",
    "    for key in descriptions.keys():\n",
    "        [vocab.update(desc.split()) for desc in descriptions[key]]\n",
    "    \n",
    "    return vocab\n",
    "\n",
    "vocab = text_vocabulary(clean_descriptions)\n",
    "print('Length of vocabuary:', len(vocab))"
   ]
  },
  {
   "cell_type": "code",
   "execution_count": 7,
   "id": "5658c7b5",
   "metadata": {
    "execution": {
     "iopub.execute_input": "2024-04-12T02:44:04.494068Z",
     "iopub.status.busy": "2024-04-12T02:44:04.493758Z",
     "iopub.status.idle": "2024-04-12T02:44:04.539770Z",
     "shell.execute_reply": "2024-04-12T02:44:04.538963Z"
    },
    "papermill": {
     "duration": 0.060412,
     "end_time": "2024-04-12T02:44:04.541852",
     "exception": false,
     "start_time": "2024-04-12T02:44:04.481440",
     "status": "completed"
    },
    "tags": []
   },
   "outputs": [],
   "source": [
    "def save_descriptions(descriptions, filename):\n",
    "    lines = list()\n",
    "    for key, captions in descriptions.items():\n",
    "        for cap in captions:\n",
    "            lines.append(key + '\\t' + cap)\n",
    "    data = '\\n'.join(lines)\n",
    "    file = open(filename, 'w', encoding='utf-8')\n",
    "    file.write(data)\n",
    "    file.close()\n",
    "\n",
    "save_descriptions(clean_descriptions, 'descriptions.txt')"
   ]
  },
  {
   "cell_type": "markdown",
   "id": "ae715810",
   "metadata": {
    "papermill": {
     "duration": 0.011506,
     "end_time": "2024-04-12T02:44:04.564934",
     "exception": false,
     "start_time": "2024-04-12T02:44:04.553428",
     "status": "completed"
    },
    "tags": []
   },
   "source": [
    "# 3. Trích xuất vecto đặc trưng từ ảnh"
   ]
  },
  {
   "cell_type": "code",
   "execution_count": 8,
   "id": "d7dc5d44",
   "metadata": {
    "execution": {
     "iopub.execute_input": "2024-04-12T02:44:04.590128Z",
     "iopub.status.busy": "2024-04-12T02:44:04.589378Z",
     "iopub.status.idle": "2024-04-12T02:44:04.597215Z",
     "shell.execute_reply": "2024-04-12T02:44:04.596318Z"
    },
    "papermill": {
     "duration": 0.022715,
     "end_time": "2024-04-12T02:44:04.599254",
     "exception": false,
     "start_time": "2024-04-12T02:44:04.576539",
     "status": "completed"
    },
    "tags": []
   },
   "outputs": [],
   "source": [
    "def extract_feature(directory):\n",
    "    model = InceptionV3(weights='imagenet')\n",
    "    model = Model(model.input, model.layers[-2].output)\n",
    "    \n",
    "    features = dict()\n",
    "    for img in tqdm(os.listdir(directory), file=sys.stdout):\n",
    "        filename = directory + '/' + img\n",
    "        image = load_img(filename, target_size=(299, 299))\n",
    "        image = img_to_array(image)\n",
    "        image = np.expand_dims(image, axis=0)\n",
    "        image = preprocess_input(image)\n",
    "        \n",
    "        feature = model.predict(image, verbose=0)\n",
    "        features[img] = feature\n",
    "    return features"
   ]
  },
  {
   "cell_type": "code",
   "execution_count": 9,
   "id": "7202dca1",
   "metadata": {
    "execution": {
     "iopub.execute_input": "2024-04-12T02:44:04.623582Z",
     "iopub.status.busy": "2024-04-12T02:44:04.623268Z",
     "iopub.status.idle": "2024-04-12T02:54:02.460128Z",
     "shell.execute_reply": "2024-04-12T02:54:02.459153Z"
    },
    "papermill": {
     "duration": 597.852074,
     "end_time": "2024-04-12T02:54:02.462885",
     "exception": false,
     "start_time": "2024-04-12T02:44:04.610811",
     "status": "completed"
    },
    "tags": []
   },
   "outputs": [
    {
     "name": "stdout",
     "output_type": "stream",
     "text": [
      "Downloading data from https://storage.googleapis.com/tensorflow/keras-applications/inception_v3/inception_v3_weights_tf_dim_ordering_tf_kernels.h5\n",
      "96116736/96112376 [==============================] - 1s 0us/step\n",
      "96124928/96112376 [==============================] - 1s 0us/step\n"
     ]
    },
    {
     "data": {
      "application/vnd.jupyter.widget-view+json": {
       "model_id": "c630de135a4a445ca6bbe82f7b3ffb14",
       "version_major": 2,
       "version_minor": 0
      },
      "text/plain": [
       "  0%|          | 0/8091 [00:00<?, ?it/s]"
      ]
     },
     "metadata": {},
     "output_type": "display_data"
    }
   ],
   "source": [
    "features = extract_feature(dataset_images)\n",
    "dump(features, open('features_inception_v3.pkl', 'wb'))"
   ]
  },
  {
   "cell_type": "code",
   "execution_count": 10,
   "id": "66b8f9c3",
   "metadata": {
    "execution": {
     "iopub.execute_input": "2024-04-12T02:54:02.493347Z",
     "iopub.status.busy": "2024-04-12T02:54:02.492999Z",
     "iopub.status.idle": "2024-04-12T02:54:02.497462Z",
     "shell.execute_reply": "2024-04-12T02:54:02.496550Z"
    },
    "papermill": {
     "duration": 0.021538,
     "end_time": "2024-04-12T02:54:02.499544",
     "exception": false,
     "start_time": "2024-04-12T02:54:02.478006",
     "status": "completed"
    },
    "tags": []
   },
   "outputs": [],
   "source": [
    "# feature_path = '../input/flickr8k-feature-vector/features_inception_v3.pkl'\n",
    "# features = load(open(feature_path, 'rb'))\n"
   ]
  },
  {
   "cell_type": "code",
   "execution_count": 11,
   "id": "198f6de1",
   "metadata": {
    "execution": {
     "iopub.execute_input": "2024-04-12T02:54:02.528682Z",
     "iopub.status.busy": "2024-04-12T02:54:02.528377Z",
     "iopub.status.idle": "2024-04-12T02:54:02.535310Z",
     "shell.execute_reply": "2024-04-12T02:54:02.534356Z"
    },
    "papermill": {
     "duration": 0.024444,
     "end_time": "2024-04-12T02:54:02.537773",
     "exception": false,
     "start_time": "2024-04-12T02:54:02.513329",
     "status": "completed"
    },
    "tags": []
   },
   "outputs": [
    {
     "data": {
      "text/plain": [
       "array([[0.12277571, 0.3329491 , 0.75271606, ..., 0.2193965 , 0.302164  ,\n",
       "        0.40283167]], dtype=float32)"
      ]
     },
     "execution_count": 11,
     "metadata": {},
     "output_type": "execute_result"
    }
   ],
   "source": [
    "features[sample_image]"
   ]
  },
  {
   "cell_type": "markdown",
   "id": "3f3b6abf",
   "metadata": {
    "papermill": {
     "duration": 0.013373,
     "end_time": "2024-04-12T02:54:02.566538",
     "exception": false,
     "start_time": "2024-04-12T02:54:02.553165",
     "status": "completed"
    },
    "tags": []
   },
   "source": [
    "# 4. Load dataset và train model"
   ]
  },
  {
   "cell_type": "code",
   "execution_count": 12,
   "id": "7bf96dd3",
   "metadata": {
    "execution": {
     "iopub.execute_input": "2024-04-12T02:54:02.593623Z",
     "iopub.status.busy": "2024-04-12T02:54:02.593340Z",
     "iopub.status.idle": "2024-04-12T02:54:02.597887Z",
     "shell.execute_reply": "2024-04-12T02:54:02.597075Z"
    },
    "papermill": {
     "duration": 0.020436,
     "end_time": "2024-04-12T02:54:02.599853",
     "exception": false,
     "start_time": "2024-04-12T02:54:02.579417",
     "status": "completed"
    },
    "tags": []
   },
   "outputs": [],
   "source": [
    "def load_photos(filename):\n",
    "    file = load_doc(filename)\n",
    "    photos = file.split('\\n')\n",
    "    return photos"
   ]
  },
  {
   "cell_type": "code",
   "execution_count": 13,
   "id": "7f606e6e",
   "metadata": {
    "execution": {
     "iopub.execute_input": "2024-04-12T02:54:02.628025Z",
     "iopub.status.busy": "2024-04-12T02:54:02.627454Z",
     "iopub.status.idle": "2024-04-12T02:54:02.634248Z",
     "shell.execute_reply": "2024-04-12T02:54:02.633390Z"
    },
    "papermill": {
     "duration": 0.023092,
     "end_time": "2024-04-12T02:54:02.636389",
     "exception": false,
     "start_time": "2024-04-12T02:54:02.613297",
     "status": "completed"
    },
    "tags": []
   },
   "outputs": [],
   "source": [
    "def load_descriptions(filename, photos):\n",
    "    file = load_doc(filename)\n",
    "    descriptions = dict()\n",
    "    for line in file.split('\\n'):\n",
    "        line = line.split('\\t')\n",
    "        \n",
    "        if len(line) < 1:\n",
    "            continue\n",
    "            \n",
    "        image, cap = line[0], line[1]\n",
    "        if image in photos:\n",
    "            if image not in descriptions:\n",
    "                descriptions[image] = list()\n",
    "            desc = 'startseq ' + cap + ' endseq'\n",
    "            descriptions[image].append(desc)\n",
    "    return descriptions"
   ]
  },
  {
   "cell_type": "code",
   "execution_count": 14,
   "id": "b945a64a",
   "metadata": {
    "execution": {
     "iopub.execute_input": "2024-04-12T02:54:02.664837Z",
     "iopub.status.busy": "2024-04-12T02:54:02.664545Z",
     "iopub.status.idle": "2024-04-12T02:54:02.669480Z",
     "shell.execute_reply": "2024-04-12T02:54:02.668486Z"
    },
    "papermill": {
     "duration": 0.021629,
     "end_time": "2024-04-12T02:54:02.671604",
     "exception": false,
     "start_time": "2024-04-12T02:54:02.649975",
     "status": "completed"
    },
    "tags": []
   },
   "outputs": [],
   "source": [
    "# def load_features(photos):\n",
    "#     all_features = load(open(feature_path, 'rb'))\n",
    "#     features = {img: all_features[img] for img in photos}\n",
    "#     return features\n",
    "\n",
    "def load_features(photos, features= features):\n",
    "    return {img: features[img] for img in photos}"
   ]
  },
  {
   "cell_type": "code",
   "execution_count": 15,
   "id": "92e51db0",
   "metadata": {
    "execution": {
     "iopub.execute_input": "2024-04-12T02:54:02.701216Z",
     "iopub.status.busy": "2024-04-12T02:54:02.700612Z",
     "iopub.status.idle": "2024-04-12T02:54:08.629670Z",
     "shell.execute_reply": "2024-04-12T02:54:08.628759Z"
    },
    "papermill": {
     "duration": 5.94646,
     "end_time": "2024-04-12T02:54:08.632209",
     "exception": false,
     "start_time": "2024-04-12T02:54:02.685749",
     "status": "completed"
    },
    "tags": []
   },
   "outputs": [],
   "source": [
    "train_imgs = load_photos(dataset_text + '/' + 'trainImages.txt')\n",
    "train_descriptions = load_descriptions('descriptions.txt', train_imgs)\n",
    "train_features = load_features(train_imgs)\n",
    "\n",
    "test_imgs = load_photos(dataset_text + '/' + 'testImages.txt')\n",
    "test_descriptions = load_descriptions('descriptions.txt', test_imgs)\n",
    "test_features = load_features(test_imgs)"
   ]
  },
  {
   "cell_type": "markdown",
   "id": "facef112",
   "metadata": {
    "execution": {
     "iopub.execute_input": "2022-04-22T06:46:01.831106Z",
     "iopub.status.busy": "2022-04-22T06:46:01.830847Z",
     "iopub.status.idle": "2022-04-22T06:46:01.836967Z",
     "shell.execute_reply": "2022-04-22T06:46:01.836194Z",
     "shell.execute_reply.started": "2022-04-22T06:46:01.831076Z"
    },
    "papermill": {
     "duration": 0.013794,
     "end_time": "2024-04-12T02:54:08.660427",
     "exception": false,
     "start_time": "2024-04-12T02:54:08.646633",
     "status": "completed"
    },
    "tags": []
   },
   "source": [
    "# 5. Tokenizing từ "
   ]
  },
  {
   "cell_type": "code",
   "execution_count": 16,
   "id": "43e47509",
   "metadata": {
    "execution": {
     "iopub.execute_input": "2024-04-12T02:54:08.689577Z",
     "iopub.status.busy": "2024-04-12T02:54:08.688866Z",
     "iopub.status.idle": "2024-04-12T02:54:08.694185Z",
     "shell.execute_reply": "2024-04-12T02:54:08.693222Z"
    },
    "papermill": {
     "duration": 0.02173,
     "end_time": "2024-04-12T02:54:08.696339",
     "exception": false,
     "start_time": "2024-04-12T02:54:08.674609",
     "status": "completed"
    },
    "tags": []
   },
   "outputs": [],
   "source": [
    "def dict_to_list(descriptions):\n",
    "    all_desc = list()\n",
    "    for key in descriptions.keys():\n",
    "        [all_desc.append(desc) for desc in descriptions[key]]\n",
    "    return all_desc"
   ]
  },
  {
   "cell_type": "code",
   "execution_count": 17,
   "id": "860e2de9",
   "metadata": {
    "execution": {
     "iopub.execute_input": "2024-04-12T02:54:08.725159Z",
     "iopub.status.busy": "2024-04-12T02:54:08.724649Z",
     "iopub.status.idle": "2024-04-12T02:54:08.729666Z",
     "shell.execute_reply": "2024-04-12T02:54:08.728656Z"
    },
    "papermill": {
     "duration": 0.021307,
     "end_time": "2024-04-12T02:54:08.731617",
     "exception": false,
     "start_time": "2024-04-12T02:54:08.710310",
     "status": "completed"
    },
    "tags": []
   },
   "outputs": [],
   "source": [
    "def create_tokenizer(descriptions):\n",
    "    desc_list = dict_to_list(descriptions)\n",
    "    oov_token = 'unk'\n",
    "    tokenizer = Tokenizer(oov_token=oov_token)\n",
    "    tokenizer.fit_on_texts(desc_list)\n",
    "    return tokenizer"
   ]
  },
  {
   "cell_type": "code",
   "execution_count": 18,
   "id": "d33a6092",
   "metadata": {
    "execution": {
     "iopub.execute_input": "2024-04-12T02:54:08.758964Z",
     "iopub.status.busy": "2024-04-12T02:54:08.758675Z",
     "iopub.status.idle": "2024-04-12T02:54:09.610693Z",
     "shell.execute_reply": "2024-04-12T02:54:09.609615Z"
    },
    "papermill": {
     "duration": 0.867918,
     "end_time": "2024-04-12T02:54:09.612875",
     "exception": false,
     "start_time": "2024-04-12T02:54:08.744957",
     "status": "completed"
    },
    "tags": []
   },
   "outputs": [
    {
     "name": "stdout",
     "output_type": "stream",
     "text": [
      "vocabulary: 3299\n"
     ]
    }
   ],
   "source": [
    "tokenizer = create_tokenizer(train_descriptions)\n",
    "dump(tokenizer, open('tokenizer.pkl', 'wb'))\n",
    "vocab_size = len(tokenizer.word_index) + 1\n",
    "print('vocabulary:', vocab_size)"
   ]
  },
  {
   "cell_type": "code",
   "execution_count": 19,
   "id": "344b9a50",
   "metadata": {
    "execution": {
     "iopub.execute_input": "2024-04-12T02:54:09.641274Z",
     "iopub.status.busy": "2024-04-12T02:54:09.640671Z",
     "iopub.status.idle": "2024-04-12T02:54:09.707310Z",
     "shell.execute_reply": "2024-04-12T02:54:09.706338Z"
    },
    "papermill": {
     "duration": 0.083132,
     "end_time": "2024-04-12T02:54:09.709408",
     "exception": false,
     "start_time": "2024-04-12T02:54:09.626276",
     "status": "completed"
    },
    "tags": []
   },
   "outputs": [
    {
     "name": "stdout",
     "output_type": "stream",
     "text": [
      "Max length of train set: 41\n"
     ]
    }
   ],
   "source": [
    "def max_length(descriptions):\n",
    "    desc_list = dict_to_list(descriptions)\n",
    "    return max(len(desc.split()) for desc in desc_list)\n",
    "max_length = max_length(descriptions)\n",
    "print('Max length of train set:', max_length)"
   ]
  },
  {
   "cell_type": "code",
   "execution_count": 20,
   "id": "d406fdf9",
   "metadata": {
    "execution": {
     "iopub.execute_input": "2024-04-12T02:54:09.738279Z",
     "iopub.status.busy": "2024-04-12T02:54:09.737950Z",
     "iopub.status.idle": "2024-04-12T02:55:02.577703Z",
     "shell.execute_reply": "2024-04-12T02:55:02.576564Z"
    },
    "papermill": {
     "duration": 52.856738,
     "end_time": "2024-04-12T02:55:02.579796",
     "exception": false,
     "start_time": "2024-04-12T02:54:09.723058",
     "status": "completed"
    },
    "tags": []
   },
   "outputs": [
    {
     "name": "stderr",
     "output_type": "stream",
     "text": [
      "Warning : `load_model` does not return WordVectorModel or SupervisedModel any more, but a `FastText` object which is very similar.\n"
     ]
    },
    {
     "name": "stdout",
     "output_type": "stream",
     "text": [
      "Converted 3298 words (0 misses)\n",
      "(3299, 300)\n"
     ]
    }
   ],
   "source": [
    "def create_embedding_matrix(vocab):\n",
    "    embedding_index = fasttext.load_model('../input/fasttext-vietnamese-word-vectors-full/cc.vi.300.bin')\n",
    "    \n",
    "    embedding_dim = 300\n",
    "    hits = 0\n",
    "    misses = 0\n",
    "    vocab_size = len(vocab) + 1\n",
    "    \n",
    "    embedding_matrix = np.zeros((vocab_size, embedding_dim))\n",
    "    for word, idx in vocab.items():\n",
    "        embedding_vector = embedding_index[word]\n",
    "        if embedding_vector is not None:\n",
    "            embedding_matrix[idx] = embedding_vector\n",
    "            hits += 1\n",
    "        else:\n",
    "            misses += 1\n",
    "    print(\"Converted %d words (%d misses)\" % (hits, misses))\n",
    "    \n",
    "    return embedding_matrix\n",
    "\n",
    "vocab = tokenizer.word_index\n",
    "embedding_matrix = create_embedding_matrix(vocab)\n",
    "print(embedding_matrix.shape)"
   ]
  },
  {
   "cell_type": "markdown",
   "id": "9b34532e",
   "metadata": {
    "papermill": {
     "duration": 0.014011,
     "end_time": "2024-04-12T02:55:02.607500",
     "exception": false,
     "start_time": "2024-04-12T02:55:02.593489",
     "status": "completed"
    },
    "tags": []
   },
   "source": [
    "# 6. Create data generator"
   ]
  },
  {
   "cell_type": "code",
   "execution_count": 21,
   "id": "e0f8d133",
   "metadata": {
    "execution": {
     "iopub.execute_input": "2024-04-12T02:55:02.637661Z",
     "iopub.status.busy": "2024-04-12T02:55:02.636943Z",
     "iopub.status.idle": "2024-04-12T02:55:02.763032Z",
     "shell.execute_reply": "2024-04-12T02:55:02.761992Z"
    },
    "papermill": {
     "duration": 0.144004,
     "end_time": "2024-04-12T02:55:02.765471",
     "exception": false,
     "start_time": "2024-04-12T02:55:02.621467",
     "status": "completed"
    },
    "tags": []
   },
   "outputs": [
    {
     "data": {
      "text/plain": [
       "((2356, 2048), (2356, 41), (2356, 3299))"
      ]
     },
     "execution_count": 21,
     "metadata": {},
     "output_type": "execute_result"
    }
   ],
   "source": [
    "def data_generator(descriptions, features, tokenizer, max_length, vocab_size, batch_size):\n",
    "    X1, X2, y = list(), list(), list()\n",
    "    n = 0\n",
    "    \n",
    "    while True:\n",
    "        for key, captions in descriptions.items():\n",
    "            n += 1\n",
    "            feature = features[key][0]\n",
    "            for caption in captions:\n",
    "                seq = tokenizer.texts_to_sequences([caption])[0]\n",
    "                for i in range(1, len(seq)):\n",
    "                    in_seq, out_seq = seq[:i], seq[i]\n",
    "                    in_seq = pad_sequences([in_seq], maxlen=max_length)[0]\n",
    "                    out_seq = to_categorical([out_seq], num_classes=vocab_size)[0]\n",
    "\n",
    "                    X1.append(feature)\n",
    "                    X2.append(in_seq)\n",
    "                    y.append(out_seq)\n",
    "            if n == batch_size:\n",
    "                X1, X2, y = np.array(X1), np.array(X2), np.array(y)\n",
    "                yield [X1, X2], y\n",
    "                X1, X2, y = list(), list(), list()\n",
    "                n = 0\n",
    "                \n",
    "[a, b], c = next(data_generator(train_descriptions, features, tokenizer, max_length, vocab_size, 32))\n",
    "a.shape, b.shape, c.shape"
   ]
  },
  {
   "cell_type": "markdown",
   "id": "2254a55f",
   "metadata": {
    "papermill": {
     "duration": 0.015235,
     "end_time": "2024-04-12T02:55:02.796869",
     "exception": false,
     "start_time": "2024-04-12T02:55:02.781634",
     "status": "completed"
    },
    "tags": []
   },
   "source": [
    "# 7. build CNN-RNN model"
   ]
  },
  {
   "cell_type": "code",
   "execution_count": 22,
   "id": "1ebb4a26",
   "metadata": {
    "execution": {
     "iopub.execute_input": "2024-04-12T02:55:02.828779Z",
     "iopub.status.busy": "2024-04-12T02:55:02.828459Z",
     "iopub.status.idle": "2024-04-12T02:55:02.839169Z",
     "shell.execute_reply": "2024-04-12T02:55:02.838307Z"
    },
    "papermill": {
     "duration": 0.028712,
     "end_time": "2024-04-12T02:55:02.841147",
     "exception": false,
     "start_time": "2024-04-12T02:55:02.812435",
     "status": "completed"
    },
    "tags": []
   },
   "outputs": [],
   "source": [
    "def define_model(vocab_size, max_length):\n",
    "    embedding_dim = 300\n",
    "    inputs1 = Input(shape=(2048,))\n",
    "    fe1 = Dropout(0.5)(inputs1)\n",
    "    fe2 = Dense(256, activation='relu')(fe1)\n",
    "\n",
    "    inputs2 = Input(shape=(max_length,))\n",
    "    se1 = Embedding(\n",
    "        vocab_size,\n",
    "        embedding_dim,\n",
    "        embeddings_initializer=Constant(embedding_matrix),\n",
    "        mask_zero=True,\n",
    "        trainable=False,\n",
    "    )(inputs2)\n",
    "    se2 = Dropout(0.5)(se1)\n",
    "    se3 = Bidirectional(LSTM(128))(se2)\n",
    "\n",
    "    decoder1 = add([fe2, se3])\n",
    "    decoder2 = Dense(256, activation='relu')(decoder1)\n",
    "    outputs = Dense(vocab_size, activation='softmax')(decoder2)\n",
    "\n",
    "    model = Model(inputs=[inputs1, inputs2], outputs=outputs)\n",
    "    \n",
    "    model.compile(loss='categorical_crossentropy', optimizer=Adam(learning_rate=0.0001))\n",
    "\n",
    "    print(model.summary())\n",
    "    plot_model(model, to_file='model.png', show_shapes=True)\n",
    "\n",
    "    return model\n",
    "\n",
    "# import tensorflow as tf\n",
    "# def define_model(vocab_size, max_length):\n",
    "#     embedding_dim = 300\n",
    "    \n",
    "#     model = tf.keras.models.Sequential([\n",
    "#         tf.keras.layers.Input(shape=(2048,)),\n",
    "#         tf.keras.layers.Dropout(0.5),\n",
    "#         tf.keras.layers.Dense(256, activation='relu'),\n",
    "        \n",
    "#         tf.keras.layers.Input(shape=(max_length,)),\n",
    "#         tf.keras.layers.Embedding(\n",
    "#             vocab_size,\n",
    "#             embedding_dim,\n",
    "#             embeddings_initializer=Constant(embedding_matrix),\n",
    "#             mask_zero=True,\n",
    "#             trainable=False,\n",
    "#         ),\n",
    "#         tf.keras.layers.Dropout(0.5),\n",
    "#         tf.keras.layers.Bidirectional(tf.keras.layers.LSTM(128)),\n",
    "        \n",
    "#         tf.keras.layers.Add(),\n",
    "#         tf.keras.layers.Dense(256, activation='relu'),\n",
    "#         tf.keras.layers.Dense(vocab_size, activation='softmax')\n",
    "#     ])\n",
    "    \n",
    "#     model.compile(loss='categorical_crossentropy', optimizer=tf.keras.optimizers.Adam(learning_rate=0.0001))\n",
    "    \n",
    "#     print(model.summary())\n",
    "#     tf.keras.utils.plot_model(model, to_file='model.png', show_shapes=True)\n",
    "\n",
    "#     return model"
   ]
  },
  {
   "cell_type": "markdown",
   "id": "4d269dce",
   "metadata": {
    "papermill": {
     "duration": 0.013538,
     "end_time": "2024-04-12T02:55:02.868677",
     "exception": false,
     "start_time": "2024-04-12T02:55:02.855139",
     "status": "completed"
    },
    "tags": []
   },
   "source": [
    "# 8. Train model"
   ]
  },
  {
   "cell_type": "code",
   "execution_count": 23,
   "id": "bc0e1206",
   "metadata": {
    "execution": {
     "iopub.execute_input": "2024-04-12T02:55:02.897790Z",
     "iopub.status.busy": "2024-04-12T02:55:02.897082Z",
     "iopub.status.idle": "2024-04-12T02:55:02.902476Z",
     "shell.execute_reply": "2024-04-12T02:55:02.901555Z"
    },
    "papermill": {
     "duration": 0.022352,
     "end_time": "2024-04-12T02:55:02.904831",
     "exception": false,
     "start_time": "2024-04-12T02:55:02.882479",
     "status": "completed"
    },
    "tags": []
   },
   "outputs": [
    {
     "name": "stdout",
     "output_type": "stream",
     "text": [
      "Dataset:  6000\n",
      "Descriptions: train = 6000\n",
      "Photos: train = 6000\n",
      "Vocabulary Size: 3299\n",
      "Description Length:  41\n"
     ]
    }
   ],
   "source": [
    "print('Dataset: ', len(train_imgs))\n",
    "print('Descriptions: train =', len(train_descriptions))\n",
    "print('Photos: train =', len(train_features))\n",
    "print('Vocabulary Size:', vocab_size)\n",
    "print('Description Length: ', max_length)\n"
   ]
  },
  {
   "cell_type": "code",
   "execution_count": 24,
   "id": "dc554988",
   "metadata": {
    "execution": {
     "iopub.execute_input": "2024-04-12T02:55:02.933420Z",
     "iopub.status.busy": "2024-04-12T02:55:02.932883Z",
     "iopub.status.idle": "2024-04-12T02:55:05.567931Z",
     "shell.execute_reply": "2024-04-12T02:55:05.566837Z"
    },
    "papermill": {
     "duration": 2.652313,
     "end_time": "2024-04-12T02:55:05.570829",
     "exception": false,
     "start_time": "2024-04-12T02:55:02.918516",
     "status": "completed"
    },
    "tags": []
   },
   "outputs": [
    {
     "name": "stdout",
     "output_type": "stream",
     "text": [
      "Model: \"model_1\"\n",
      "__________________________________________________________________________________________________\n",
      "Layer (type)                    Output Shape         Param #     Connected to                     \n",
      "==================================================================================================\n",
      "input_3 (InputLayer)            [(None, 41)]         0                                            \n",
      "__________________________________________________________________________________________________\n",
      "input_2 (InputLayer)            [(None, 2048)]       0                                            \n",
      "__________________________________________________________________________________________________\n",
      "embedding (Embedding)           (None, 41, 300)      989700      input_3[0][0]                    \n",
      "__________________________________________________________________________________________________\n",
      "dropout (Dropout)               (None, 2048)         0           input_2[0][0]                    \n",
      "__________________________________________________________________________________________________\n",
      "dropout_1 (Dropout)             (None, 41, 300)      0           embedding[0][0]                  \n",
      "__________________________________________________________________________________________________\n",
      "dense (Dense)                   (None, 256)          524544      dropout[0][0]                    \n",
      "__________________________________________________________________________________________________\n",
      "bidirectional (Bidirectional)   (None, 256)          439296      dropout_1[0][0]                  \n",
      "__________________________________________________________________________________________________\n",
      "add (Add)                       (None, 256)          0           dense[0][0]                      \n",
      "                                                                 bidirectional[0][0]              \n",
      "__________________________________________________________________________________________________\n",
      "dense_1 (Dense)                 (None, 256)          65792       add[0][0]                        \n",
      "__________________________________________________________________________________________________\n",
      "dense_2 (Dense)                 (None, 3299)         847843      dense_1[0][0]                    \n",
      "==================================================================================================\n",
      "Total params: 2,867,175\n",
      "Trainable params: 1,877,475\n",
      "Non-trainable params: 989,700\n",
      "__________________________________________________________________________________________________\n",
      "None\n"
     ]
    },
    {
     "data": {
      "image/png": "[encoded data removed]",
      "text/plain": [
       "<IPython.core.display.Image object>"
      ]
     },
     "execution_count": 24,
     "metadata": {},
     "output_type": "execute_result"
    }
   ],
   "source": [
    "from IPython.display import Image\n",
    "\n",
    "model = define_model(vocab_size, max_length)\n",
    "Image(filename='model.png')"
   ]
  },
  {
   "cell_type": "code",
   "execution_count": 25,
   "id": "6d275cbc",
   "metadata": {
    "execution": {
     "iopub.execute_input": "2024-04-12T02:55:05.603805Z",
     "iopub.status.busy": "2024-04-12T02:55:05.602904Z",
     "iopub.status.idle": "2024-04-12T03:31:33.986839Z",
     "shell.execute_reply": "2024-04-12T03:31:33.985650Z"
    },
    "papermill": {
     "duration": 2188.402808,
     "end_time": "2024-04-12T03:31:33.989400",
     "exception": false,
     "start_time": "2024-04-12T02:55:05.586592",
     "status": "completed"
    },
    "tags": []
   },
   "outputs": [
    {
     "name": "stdout",
     "output_type": "stream",
     "text": [
      "Epoch 1/50\n",
      "187/187 [==============================] - 51s 231ms/step - loss: 5.8393\n",
      "Epoch 2/50\n",
      "187/187 [==============================] - 44s 233ms/step - loss: 5.1026\n",
      "Epoch 3/50\n",
      "187/187 [==============================] - 43s 230ms/step - loss: 4.8476\n",
      "Epoch 4/50\n",
      "187/187 [==============================] - 43s 230ms/step - loss: 4.6240\n",
      "Epoch 5/50\n",
      "187/187 [==============================] - 43s 230ms/step - loss: 4.4101\n",
      "Epoch 6/50\n",
      "187/187 [==============================] - 42s 227ms/step - loss: 4.2466\n",
      "Epoch 7/50\n",
      "187/187 [==============================] - 43s 229ms/step - loss: 4.1199\n",
      "Epoch 8/50\n",
      "187/187 [==============================] - 43s 230ms/step - loss: 4.0145\n",
      "Epoch 9/50\n",
      "187/187 [==============================] - 43s 231ms/step - loss: 3.9258\n",
      "Epoch 10/50\n",
      "187/187 [==============================] - 43s 231ms/step - loss: 3.8485\n",
      "Epoch 11/50\n",
      "187/187 [==============================] - 43s 231ms/step - loss: 3.7792\n",
      "Epoch 12/50\n",
      "187/187 [==============================] - 43s 230ms/step - loss: 3.7162\n",
      "Epoch 13/50\n",
      "187/187 [==============================] - 43s 231ms/step - loss: 3.6581\n",
      "Epoch 14/50\n",
      "187/187 [==============================] - 43s 228ms/step - loss: 3.6052\n",
      "Epoch 15/50\n",
      "187/187 [==============================] - 42s 226ms/step - loss: 3.5565\n",
      "Epoch 16/50\n",
      "187/187 [==============================] - 43s 228ms/step - loss: 3.5122\n",
      "Epoch 17/50\n",
      "187/187 [==============================] - 43s 228ms/step - loss: 3.4702\n",
      "Epoch 18/50\n",
      "187/187 [==============================] - 43s 228ms/step - loss: 3.4312\n",
      "Epoch 19/50\n",
      "187/187 [==============================] - 43s 229ms/step - loss: 3.3950\n",
      "Epoch 20/50\n",
      "187/187 [==============================] - 42s 226ms/step - loss: 3.3605\n",
      "Epoch 21/50\n",
      "187/187 [==============================] - 42s 226ms/step - loss: 3.3303\n",
      "Epoch 22/50\n",
      "187/187 [==============================] - 43s 228ms/step - loss: 3.2980\n",
      "Epoch 23/50\n",
      "187/187 [==============================] - 42s 227ms/step - loss: 3.2699\n",
      "Epoch 24/50\n",
      "187/187 [==============================] - 42s 227ms/step - loss: 3.2435\n",
      "Epoch 25/50\n",
      "187/187 [==============================] - 42s 226ms/step - loss: 3.2159\n",
      "Epoch 26/50\n",
      "187/187 [==============================] - 43s 228ms/step - loss: 3.1885\n",
      "Epoch 27/50\n",
      "187/187 [==============================] - 43s 228ms/step - loss: 3.1658\n",
      "Epoch 28/50\n",
      "187/187 [==============================] - 42s 226ms/step - loss: 3.1422\n",
      "Epoch 29/50\n",
      "187/187 [==============================] - 42s 225ms/step - loss: 3.1180\n",
      "Epoch 30/50\n",
      "187/187 [==============================] - 43s 228ms/step - loss: 3.0961\n",
      "Epoch 31/50\n",
      "187/187 [==============================] - 42s 225ms/step - loss: 3.0760\n",
      "Epoch 32/50\n",
      "187/187 [==============================] - 43s 228ms/step - loss: 3.0518\n",
      "Epoch 33/50\n",
      "187/187 [==============================] - 43s 229ms/step - loss: 3.0342\n",
      "Epoch 34/50\n",
      "187/187 [==============================] - 42s 225ms/step - loss: 3.0142\n",
      "Epoch 35/50\n",
      "187/187 [==============================] - 42s 227ms/step - loss: 2.9958\n",
      "Epoch 36/50\n",
      "187/187 [==============================] - 42s 227ms/step - loss: 2.9781\n",
      "Epoch 37/50\n",
      "187/187 [==============================] - 42s 225ms/step - loss: 2.9603\n",
      "Epoch 38/50\n",
      "187/187 [==============================] - 43s 227ms/step - loss: 2.9425\n",
      "Epoch 39/50\n",
      "187/187 [==============================] - 42s 226ms/step - loss: 2.9240\n",
      "Epoch 40/50\n",
      "187/187 [==============================] - 42s 226ms/step - loss: 2.9096\n",
      "Epoch 41/50\n",
      "187/187 [==============================] - 42s 225ms/step - loss: 2.8916\n",
      "Epoch 42/50\n",
      "187/187 [==============================] - 43s 228ms/step - loss: 2.8787\n",
      "Epoch 43/50\n",
      "187/187 [==============================] - 42s 226ms/step - loss: 2.8640\n",
      "Epoch 44/50\n",
      "187/187 [==============================] - 42s 226ms/step - loss: 2.8493\n",
      "Epoch 45/50\n",
      "187/187 [==============================] - 43s 228ms/step - loss: 2.8351\n",
      "Epoch 46/50\n",
      "187/187 [==============================] - 43s 228ms/step - loss: 2.8194\n",
      "Epoch 47/50\n",
      "187/187 [==============================] - 42s 224ms/step - loss: 2.8088\n",
      "Epoch 48/50\n",
      "187/187 [==============================] - 42s 226ms/step - loss: 2.7962\n",
      "Epoch 49/50\n",
      "187/187 [==============================] - 42s 225ms/step - loss: 2.7823\n",
      "Epoch 50/50\n",
      "187/187 [==============================] - 42s 225ms/step - loss: 2.7693\n"
     ]
    }
   ],
   "source": [
    "epochs = 50\n",
    "batch_size = 32\n",
    "steps = len(train_imgs) // batch_size\n",
    "\n",
    "history = model.fit(data_generator(train_descriptions, train_features, tokenizer, max_length, vocab_size, batch_size), \n",
    "                    epochs=epochs, \n",
    "                    steps_per_epoch=steps, \n",
    "                    verbose=1)\n"
   ]
  },
  {
   "cell_type": "code",
   "execution_count": 26,
   "id": "340a9ecb",
   "metadata": {
    "execution": {
     "iopub.execute_input": "2024-04-12T03:31:35.469923Z",
     "iopub.status.busy": "2024-04-12T03:31:35.469505Z",
     "iopub.status.idle": "2024-04-12T03:31:35.690473Z",
     "shell.execute_reply": "2024-04-12T03:31:35.689545Z"
    },
    "papermill": {
     "duration": 0.934931,
     "end_time": "2024-04-12T03:31:35.692675",
     "exception": false,
     "start_time": "2024-04-12T03:31:34.757744",
     "status": "completed"
    },
    "tags": []
   },
   "outputs": [
    {
     "data": {
      "image/png": "[encoded data removed]",
      "text/plain": [
       "<Figure size 432x288 with 1 Axes>"
      ]
     },
     "metadata": {
      "needs_background": "light"
     },
     "output_type": "display_data"
    }
   ],
   "source": [
    "import matplotlib.pyplot as plt\n",
    "\n",
    "plt.plot(history.history['loss'], label='loss')\n",
    "plt.title('Training Loss over Epochs')\n",
    "plt.xlabel('Epochs')\n",
    "plt.ylabel('Loss')\n",
    "plt.legend()\n",
    "plt.show()\n"
   ]
  },
  {
   "cell_type": "code",
   "execution_count": 27,
   "id": "da506d51",
   "metadata": {
    "execution": {
     "iopub.execute_input": "2024-04-12T03:31:37.213630Z",
     "iopub.status.busy": "2024-04-12T03:31:37.213201Z",
     "iopub.status.idle": "2024-04-12T03:31:38.387549Z",
     "shell.execute_reply": "2024-04-12T03:31:38.386408Z"
    },
    "papermill": {
     "duration": 1.942941,
     "end_time": "2024-04-12T03:31:38.390073",
     "exception": false,
     "start_time": "2024-04-12T03:31:36.447132",
     "status": "completed"
    },
    "tags": []
   },
   "outputs": [],
   "source": [
    "model.save(\"captions_vietnamese_flickr8k.h5\")"
   ]
  },
  {
   "cell_type": "markdown",
   "id": "4a3ccafb",
   "metadata": {
    "papermill": {
     "duration": 0.757748,
     "end_time": "2024-04-12T03:31:39.857104",
     "exception": false,
     "start_time": "2024-04-12T03:31:39.099356",
     "status": "completed"
    },
    "tags": []
   },
   "source": [
    "# 9. tạo captions từ image"
   ]
  },
  {
   "cell_type": "code",
   "execution_count": 28,
   "id": "397b3c2f",
   "metadata": {
    "execution": {
     "iopub.execute_input": "2024-04-12T03:31:41.265206Z",
     "iopub.status.busy": "2024-04-12T03:31:41.264825Z",
     "iopub.status.idle": "2024-04-12T03:31:41.270222Z",
     "shell.execute_reply": "2024-04-12T03:31:41.269213Z"
    },
    "papermill": {
     "duration": 0.712803,
     "end_time": "2024-04-12T03:31:41.272426",
     "exception": false,
     "start_time": "2024-04-12T03:31:40.559623",
     "status": "completed"
    },
    "tags": []
   },
   "outputs": [],
   "source": [
    "def idx_to_word(integer, tokenizer):\n",
    "    for word, index in tokenizer.word_index.items():\n",
    "        if index == integer:\n",
    "            return word\n",
    "    return None"
   ]
  },
  {
   "cell_type": "code",
   "execution_count": 29,
   "id": "b57a42b4",
   "metadata": {
    "execution": {
     "iopub.execute_input": "2024-04-12T03:31:42.762003Z",
     "iopub.status.busy": "2024-04-12T03:31:42.761299Z",
     "iopub.status.idle": "2024-04-12T03:31:42.768827Z",
     "shell.execute_reply": "2024-04-12T03:31:42.767837Z"
    },
    "papermill": {
     "duration": 0.719321,
     "end_time": "2024-04-12T03:31:42.771307",
     "exception": false,
     "start_time": "2024-04-12T03:31:42.051986",
     "status": "completed"
    },
    "tags": []
   },
   "outputs": [],
   "source": [
    "def predict_caption(model, image, tokenizer, max_length):\n",
    "    in_text = 'startseq'\n",
    "    for i in range(max_length):\n",
    "        seq = tokenizer.texts_to_sequences([in_text])[0]\n",
    "        seq = pad_sequences([seq], maxlen=max_length)\n",
    "        yhat = model.predict([image, seq], verbose=0)\n",
    "        pred_ids = np.argmax(yhat)\n",
    "        word = idx_to_word(pred_ids, tokenizer)\n",
    "        if word is None:\n",
    "            break\n",
    "        in_text += ' ' + word\n",
    "        if word == 'endseq':\n",
    "            break\n",
    "    return in_text"
   ]
  },
  {
   "cell_type": "code",
   "execution_count": 30,
   "id": "ad9d490d",
   "metadata": {
    "execution": {
     "iopub.execute_input": "2024-04-12T03:31:44.238027Z",
     "iopub.status.busy": "2024-04-12T03:31:44.237667Z",
     "iopub.status.idle": "2024-04-12T03:31:44.242276Z",
     "shell.execute_reply": "2024-04-12T03:31:44.241422Z"
    },
    "papermill": {
     "duration": 0.776,
     "end_time": "2024-04-12T03:31:44.244398",
     "exception": false,
     "start_time": "2024-04-12T03:31:43.468398",
     "status": "completed"
    },
    "tags": []
   },
   "outputs": [],
   "source": [
    "# model = load_model('./captions_vietnamese_flickr8k.h5')\n",
    "# actual, predicted = list(), list()\n",
    "\n",
    "# for image in tqdm(test_imgs):\n",
    "#     captions = test_descriptions[image]\n",
    "#     actual_captions = [caption.split() for caption in captions]\n",
    "\n",
    "#     y_pred = predict_caption(model, test_features[image], tokenizer, max_length)\n",
    "#     y_pred = y_pred.split()\n",
    "\n",
    "#     actual.append(actual_captions)\n",
    "#     predicted.append(y_pred)\n",
    "\n",
    "# # BLEU score\n",
    "# print('BLEU-1: %f' % corpus_bleu(actual, predicted, weights=(1.0, 0, 0, 0)))\n",
    "# print('BLEU-1: %f' % corpus_bleu(actual, predicted, weights=(0.5, 0.5, 0, 0)))"
   ]
  },
  {
   "cell_type": "markdown",
   "id": "74feb74e",
   "metadata": {
    "papermill": {
     "duration": 0.752175,
     "end_time": "2024-04-12T03:31:45.694982",
     "exception": false,
     "start_time": "2024-04-12T03:31:44.942807",
     "status": "completed"
    },
    "tags": []
   },
   "source": [
    "# 10. test model"
   ]
  },
  {
   "cell_type": "code",
   "execution_count": 31,
   "id": "42458cb5",
   "metadata": {
    "execution": {
     "iopub.execute_input": "2024-04-12T03:31:47.109918Z",
     "iopub.status.busy": "2024-04-12T03:31:47.108983Z",
     "iopub.status.idle": "2024-04-12T03:31:47.117478Z",
     "shell.execute_reply": "2024-04-12T03:31:47.116469Z"
    },
    "papermill": {
     "duration": 0.712453,
     "end_time": "2024-04-12T03:31:47.119499",
     "exception": false,
     "start_time": "2024-04-12T03:31:46.407046",
     "status": "completed"
    },
    "tags": []
   },
   "outputs": [],
   "source": [
    "from PIL import Image\n",
    "import matplotlib.pyplot as plt\n",
    "\n",
    "def generate_caption(image_name):\n",
    "    image_path = os.path.join(dataset_images, image_name)\n",
    "    image = Image.open(image_path)\n",
    "    descriptions = load_descriptions('./descriptions.txt', train_imgs + test_imgs)\n",
    "    captions = descriptions[image_name]\n",
    "    print('-' * 20 + 'Actual' + '-' * 20)\n",
    "    for caption in captions:\n",
    "        print(caption)\n",
    "    y_pred = predict_caption(model, features[image_name], tokenizer, max_length)\n",
    "    print('-' * 20 + 'Predicted' + '-' * 20)\n",
    "    y_pred_predict = ' '.join([word for word in y_pred.split() if word not in ['startseq', 'endseq']]) \n",
    "    print(y_pred_predict)\n",
    "    plt.imshow(image)"
   ]
  },
  {
   "cell_type": "code",
   "execution_count": 32,
   "id": "0b4a4e6f",
   "metadata": {
    "execution": {
     "iopub.execute_input": "2024-04-12T03:31:48.660946Z",
     "iopub.status.busy": "2024-04-12T03:31:48.660236Z",
     "iopub.status.idle": "2024-04-12T03:31:58.398984Z",
     "shell.execute_reply": "2024-04-12T03:31:58.398053Z"
    },
    "papermill": {
     "duration": 10.504085,
     "end_time": "2024-04-12T03:31:58.403084",
     "exception": false,
     "start_time": "2024-04-12T03:31:47.898999",
     "status": "completed"
    },
    "tags": []
   },
   "outputs": [
    {
     "name": "stdout",
     "output_type": "stream",
     "text": [
      "--------------------Actual--------------------\n",
      "startseq một cậu bé sải chân ra ngoài với bụng trên cỏ endseq\n",
      "startseq một cậu bé mặc áo sơ_mi màu xanh nằm trên cỏ endseq\n",
      "startseq cậu bé nằm sấp trên cỏ endseq\n",
      "startseq cậu bé_nhỏ nằm sấp trên bãi cỏ endseq\n",
      "startseq cậu bé đang nằm sấp trên cỏ endseq\n",
      "--------------------Predicted--------------------\n",
      "một cậu bé mặc áo sơ mi màu xanh và quần jean màu xanh và áo sơ mi màu xanh và áo sơ mi màu xanh và áo sơ mi màu xanh và áo sơ mi màu xanh và áo sơ\n"
     ]
    },
    {
     "data": {
      "image/png": "[encoded data removed]",
      "text/plain": [
       "<Figure size 432x288 with 1 Axes>"
      ]
     },
     "metadata": {
      "needs_background": "light"
     },
     "output_type": "display_data"
    }
   ],
   "source": [
    "from random import sample\n",
    "\n",
    "image_name = sample(train_imgs, 1)[0]\n",
    "generate_caption(image_name)"
   ]
  },
  {
   "cell_type": "code",
   "execution_count": 33,
   "id": "9fd6ca31",
   "metadata": {
    "execution": {
     "iopub.execute_input": "2024-04-12T03:31:59.821150Z",
     "iopub.status.busy": "2024-04-12T03:31:59.820214Z",
     "iopub.status.idle": "2024-04-12T03:32:07.840128Z",
     "shell.execute_reply": "2024-04-12T03:32:07.838959Z"
    },
    "papermill": {
     "duration": 8.724965,
     "end_time": "2024-04-12T03:32:07.842579",
     "exception": false,
     "start_time": "2024-04-12T03:31:59.117614",
     "status": "completed"
    },
    "tags": []
   },
   "outputs": [
    {
     "name": "stdout",
     "output_type": "stream",
     "text": [
      "  adding: kaggle/working/ (stored 0%)\r\n",
      "  adding: kaggle/working/__notebook__.ipynb (deflated 89%)\r\n",
      "  adding: kaggle/working/model.png (deflated 15%)\r\n",
      "  adding: kaggle/working/tokenizer.pkl (deflated 50%)\r\n",
      "  adding: kaggle/working/descriptions.txt (deflated 80%)\r\n",
      "  adding: kaggle/working/captions_vietnamese_flickr8k.h5 (deflated 29%)\r\n",
      "  adding: kaggle/working/features_inception_v3.pkl (deflated 10%)\r\n"
     ]
    }
   ],
   "source": [
    "!zip -r output.zip /kaggle/working/"
   ]
  }
 ],
 "metadata": {
  "kaggle": {
   "accelerator": "nvidiaTeslaT4",
   "dataSources": [
    {
     "datasetId": 623289,
     "sourceId": 1111676,
     "sourceType": "datasetVersion"
    },
    {
     "datasetId": 798371,
     "sourceId": 1373314,
     "sourceType": "datasetVersion"
    },
    {
     "datasetId": 2111202,
     "sourceId": 3508078,
     "sourceType": "datasetVersion"
    },
    {
     "datasetId": 2113070,
     "sourceId": 3514629,
     "sourceType": "datasetVersion"
    }
   ],
   "dockerImageVersionId": 30262,
   "isGpuEnabled": true,
   "isInternetEnabled": true,
   "language": "python",
   "sourceType": "notebook"
  },
  "kernelspec": {
   "display_name": "Python 3",
   "language": "python",
   "name": "python3"
  },
  "language_info": {
   "codemirror_mode": {
    "name": "ipython",
    "version": 3
   },
   "file_extension": ".py",
   "mimetype": "text/x-python",
   "name": "python",
   "nbconvert_exporter": "python",
   "pygments_lexer": "ipython3",
   "version": "3.7.12"
  },
  "papermill": {
   "default_parameters": {},
   "duration": 3058.089501,
   "end_time": "2024-04-12T03:32:12.202526",
   "environment_variables": {},
   "exception": null,
   "input_path": "__notebook__.ipynb",
   "output_path": "__notebook__.ipynb",
   "parameters": {},
   "start_time": "2024-04-12T02:41:14.113025",
   "version": "2.3.4"
  },
  "widgets": {
   "application/vnd.jupyter.widget-state+json": {
    "state": {
     "2434ed41d8a24151904b1c458c26d5b2": {
      "model_module": "@jupyter-widgets/controls",
      "model_module_version": "1.5.0",
      "model_name": "DescriptionStyleModel",
      "state": {
       "_model_module": "@jupyter-widgets/controls",
       "_model_module_version": "1.5.0",
       "_model_name": "DescriptionStyleModel",
       "_view_count": null,
       "_view_module": "@jupyter-widgets/base",
       "_view_module_version": "1.2.0",
       "_view_name": "StyleView",
       "description_width": ""
      }
     },
     "3c4228e07241497da6df57d2ce15a84a": {
      "model_module": "@jupyter-widgets/base",
      "model_module_version": "1.2.0",
      "model_name": "LayoutModel",
      "state": {
       "_model_module": "@jupyter-widgets/base",
       "_model_module_version": "1.2.0",
       "_model_name": "LayoutModel",
       "_view_count": null,
       "_view_module": "@jupyter-widgets/base",
       "_view_module_version": "1.2.0",
       "_view_name": "LayoutView",
       "align_content": null,
       "align_items": null,
       "align_self": null,
       "border": null,
       "bottom": null,
       "display": null,
       "flex": null,
       "flex_flow": null,
       "grid_area": null,
       "grid_auto_columns": null,
       "grid_auto_flow": null,
       "grid_auto_rows": null,
       "grid_column": null,
       "grid_gap": null,
       "grid_row": null,
       "grid_template_areas": null,
       "grid_template_columns": null,
       "grid_template_rows": null,
       "height": null,
       "justify_content": null,
       "justify_items": null,
       "left": null,
       "margin": null,
       "max_height": null,
       "max_width": null,
       "min_height": null,
       "min_width": null,
       "object_fit": null,
       "object_position": null,
       "order": null,
       "overflow": null,
       "overflow_x": null,
       "overflow_y": null,
       "padding": null,
       "right": null,
       "top": null,
       "visibility": null,
       "width": null
      }
     },
     "3e1da9419bac48749a5f847038d4ece6": {
      "model_module": "@jupyter-widgets/controls",
      "model_module_version": "1.5.0",
      "model_name": "HTMLModel",
      "state": {
       "_dom_classes": [],
       "_model_module": "@jupyter-widgets/controls",
       "_model_module_version": "1.5.0",
       "_model_name": "HTMLModel",
       "_view_count": null,
       "_view_module": "@jupyter-widgets/controls",
       "_view_module_version": "1.5.0",
       "_view_name": "HTMLView",
       "description": "",
       "description_tooltip": null,
       "layout": "IPY_MODEL_f269b27c1ef642dda95f8c4a72ac63e5",
       "placeholder": "​",
       "style": "IPY_MODEL_508486599285480ab1c2a8434dc46d92",
       "value": "100%"
      }
     },
     "48d876cc63a3484db8880ca778b5d97f": {
      "model_module": "@jupyter-widgets/controls",
      "model_module_version": "1.5.0",
      "model_name": "FloatProgressModel",
      "state": {
       "_dom_classes": [],
       "_model_module": "@jupyter-widgets/controls",
       "_model_module_version": "1.5.0",
       "_model_name": "FloatProgressModel",
       "_view_count": null,
       "_view_module": "@jupyter-widgets/controls",
       "_view_module_version": "1.5.0",
       "_view_name": "ProgressView",
       "bar_style": "success",
       "description": "",
       "description_tooltip": null,
       "layout": "IPY_MODEL_94974be59c874717a0642083781436c5",
       "max": 8091.0,
       "min": 0.0,
       "orientation": "horizontal",
       "style": "IPY_MODEL_62993d2fd952469286448ed44080534b",
       "value": 8091.0
      }
     },
     "508486599285480ab1c2a8434dc46d92": {
      "model_module": "@jupyter-widgets/controls",
      "model_module_version": "1.5.0",
      "model_name": "DescriptionStyleModel",
      "state": {
       "_model_module": "@jupyter-widgets/controls",
       "_model_module_version": "1.5.0",
       "_model_name": "DescriptionStyleModel",
       "_view_count": null,
       "_view_module": "@jupyter-widgets/base",
       "_view_module_version": "1.2.0",
       "_view_name": "StyleView",
       "description_width": ""
      }
     },
     "62993d2fd952469286448ed44080534b": {
      "model_module": "@jupyter-widgets/controls",
      "model_module_version": "1.5.0",
      "model_name": "ProgressStyleModel",
      "state": {
       "_model_module": "@jupyter-widgets/controls",
       "_model_module_version": "1.5.0",
       "_model_name": "ProgressStyleModel",
       "_view_count": null,
       "_view_module": "@jupyter-widgets/base",
       "_view_module_version": "1.2.0",
       "_view_name": "StyleView",
       "bar_color": null,
       "description_width": ""
      }
     },
     "94974be59c874717a0642083781436c5": {
      "model_module": "@jupyter-widgets/base",
      "model_module_version": "1.2.0",
      "model_name": "LayoutModel",
      "state": {
       "_model_module": "@jupyter-widgets/base",
       "_model_module_version": "1.2.0",
       "_model_name": "LayoutModel",
       "_view_count": null,
       "_view_module": "@jupyter-widgets/base",
       "_view_module_version": "1.2.0",
       "_view_name": "LayoutView",
       "align_content": null,
       "align_items": null,
       "align_self": null,
       "border": null,
       "bottom": null,
       "display": null,
       "flex": null,
       "flex_flow": null,
       "grid_area": null,
       "grid_auto_columns": null,
       "grid_auto_flow": null,
       "grid_auto_rows": null,
       "grid_column": null,
       "grid_gap": null,
       "grid_row": null,
       "grid_template_areas": null,
       "grid_template_columns": null,
       "grid_template_rows": null,
       "height": null,
       "justify_content": null,
       "justify_items": null,
       "left": null,
       "margin": null,
       "max_height": null,
       "max_width": null,
       "min_height": null,
       "min_width": null,
       "object_fit": null,
       "object_position": null,
       "order": null,
       "overflow": null,
       "overflow_x": null,
       "overflow_y": null,
       "padding": null,
       "right": null,
       "top": null,
       "visibility": null,
       "width": null
      }
     },
     "a0163c1dd72f41c2a38170c2099270de": {
      "model_module": "@jupyter-widgets/base",
      "model_module_version": "1.2.0",
      "model_name": "LayoutModel",
      "state": {
       "_model_module": "@jupyter-widgets/base",
       "_model_module_version": "1.2.0",
       "_model_name": "LayoutModel",
       "_view_count": null,
       "_view_module": "@jupyter-widgets/base",
       "_view_module_version": "1.2.0",
       "_view_name": "LayoutView",
       "align_content": null,
       "align_items": null,
       "align_self": null,
       "border": null,
       "bottom": null,
       "display": null,
       "flex": null,
       "flex_flow": null,
       "grid_area": null,
       "grid_auto_columns": null,
       "grid_auto_flow": null,
       "grid_auto_rows": null,
       "grid_column": null,
       "grid_gap": null,
       "grid_row": null,
       "grid_template_areas": null,
       "grid_template_columns": null,
       "grid_template_rows": null,
       "height": null,
       "justify_content": null,
       "justify_items": null,
       "left": null,
       "margin": null,
       "max_height": null,
       "max_width": null,
       "min_height": null,
       "min_width": null,
       "object_fit": null,
       "object_position": null,
       "order": null,
       "overflow": null,
       "overflow_x": null,
       "overflow_y": null,
       "padding": null,
       "right": null,
       "top": null,
       "visibility": null,
       "width": null
      }
     },
     "c17d6e2d2a414a7d9c107007ccab45f2": {
      "model_module": "@jupyter-widgets/controls",
      "model_module_version": "1.5.0",
      "model_name": "HTMLModel",
      "state": {
       "_dom_classes": [],
       "_model_module": "@jupyter-widgets/controls",
       "_model_module_version": "1.5.0",
       "_model_name": "HTMLModel",
       "_view_count": null,
       "_view_module": "@jupyter-widgets/controls",
       "_view_module_version": "1.5.0",
       "_view_name": "HTMLView",
       "description": "",
       "description_tooltip": null,
       "layout": "IPY_MODEL_a0163c1dd72f41c2a38170c2099270de",
       "placeholder": "​",
       "style": "IPY_MODEL_2434ed41d8a24151904b1c458c26d5b2",
       "value": " 8091/8091 [09:51&lt;00:00, 13.01it/s]"
      }
     },
     "c630de135a4a445ca6bbe82f7b3ffb14": {
      "model_module": "@jupyter-widgets/controls",
      "model_module_version": "1.5.0",
      "model_name": "HBoxModel",
      "state": {
       "_dom_classes": [],
       "_model_module": "@jupyter-widgets/controls",
       "_model_module_version": "1.5.0",
       "_model_name": "HBoxModel",
       "_view_count": null,
       "_view_module": "@jupyter-widgets/controls",
       "_view_module_version": "1.5.0",
       "_view_name": "HBoxView",
       "box_style": "",
       "children": [
        "IPY_MODEL_3e1da9419bac48749a5f847038d4ece6",
        "IPY_MODEL_48d876cc63a3484db8880ca778b5d97f",
        "IPY_MODEL_c17d6e2d2a414a7d9c107007ccab45f2"
       ],
       "layout": "IPY_MODEL_3c4228e07241497da6df57d2ce15a84a"
      }
     },
     "f269b27c1ef642dda95f8c4a72ac63e5": {
      "model_module": "@jupyter-widgets/base",
      "model_module_version": "1.2.0",
      "model_name": "LayoutModel",
      "state": {
       "_model_module": "@jupyter-widgets/base",
       "_model_module_version": "1.2.0",
       "_model_name": "LayoutModel",
       "_view_count": null,
       "_view_module": "@jupyter-widgets/base",
       "_view_module_version": "1.2.0",
       "_view_name": "LayoutView",
       "align_content": null,
       "align_items": null,
       "align_self": null,
       "border": null,
       "bottom": null,
       "display": null,
       "flex": null,
       "flex_flow": null,
       "grid_area": null,
       "grid_auto_columns": null,
       "grid_auto_flow": null,
       "grid_auto_rows": null,
       "grid_column": null,
       "grid_gap": null,
       "grid_row": null,
       "grid_template_areas": null,
       "grid_template_columns": null,
       "grid_template_rows": null,
       "height": null,
       "justify_content": null,
       "justify_items": null,
       "left": null,
       "margin": null,
       "max_height": null,
       "max_width": null,
       "min_height": null,
       "min_width": null,
       "object_fit": null,
       "object_position": null,
       "order": null,
       "overflow": null,
       "overflow_x": null,
       "overflow_y": null,
       "padding": null,
       "right": null,
       "top": null,
       "visibility": null,
       "width": null
      }
     }
    },
    "version_major": 2,
    "version_minor": 0
   }
  }
 },
 "nbformat": 4,
 "nbformat_minor": 5
}
